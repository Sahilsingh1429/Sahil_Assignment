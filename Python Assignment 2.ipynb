{
 "cells": [
  {
   "cell_type": "code",
   "execution_count": 1,
   "id": "82c9234b",
   "metadata": {},
   "outputs": [
    {
     "name": "stdout",
     "output_type": "stream",
     "text": [
      "Enter the Number:-3\n",
      "Neagtive Number\n"
     ]
    }
   ],
   "source": [
    "# Write a Python program to check if a number is positive, negative or\n",
    "# zero.\n",
    "\n",
    "num = int(input(\"Enter the Number:\"))\n",
    "if num>=0:\n",
    "    if num==0:\n",
    "        print(\"Zero\")\n",
    "    else:\n",
    "        print(\"Positive Number\")\n",
    "else:\n",
    "    print(\"Neagtive Number\")"
   ]
  },
  {
   "cell_type": "code",
   "execution_count": 2,
   "id": "b363eb65",
   "metadata": {},
   "outputs": [
    {
     "name": "stdout",
     "output_type": "stream",
     "text": [
      "Enter The Number5\n",
      "The Factoraial of 5 is 1\n",
      "The Factoraial of 5 is 2\n",
      "The Factoraial of 5 is 6\n",
      "The Factoraial of 5 is 24\n",
      "The Factoraial of 5 is 120\n"
     ]
    }
   ],
   "source": [
    "# Write a Python program to get the Factorial number of given number\n",
    "num =int(input(\"Enter The Number\"))\n",
    "factorial=1\n",
    "if num< 0:\n",
    "    print(\"This is not a factorial number\")\n",
    "elif num==0:\n",
    "    print(\"The Factorial of 0 is 1\")\n",
    "else:\n",
    "    for i in range(1,num+1):\n",
    "        factorial = factorial*i\n",
    "        print(\"The Factoraial of\",num,\"is\",factorial)"
   ]
  },
  {
   "cell_type": "code",
   "execution_count": 3,
   "id": "8ff9d922",
   "metadata": {},
   "outputs": [
    {
     "name": "stdout",
     "output_type": "stream",
     "text": [
      "Enter the numbers8\n",
      "Fiboonaci Sequence:\n",
      "0\n",
      "1\n",
      "1\n",
      "2\n",
      "3\n",
      "5\n",
      "8\n",
      "13\n"
     ]
    }
   ],
   "source": [
    "# Write a Python program to get the Fibonacci series of given range.\n",
    "\n",
    "num = int(input(\"Enter the numbers\"))\n",
    " #first two numbers\n",
    "a,b =0,1\n",
    "count = 0\n",
    "\n",
    "if num<=0:\n",
    "    print(\"Enter a positieve Number\")\n",
    "elif num ==0:\n",
    "    print(\"Fiboonaci Sequence upto\",num,\":\")\n",
    "    print(a)\n",
    "else:\n",
    "    print(\"Fiboonaci Sequence:\")\n",
    "    while count< num:\n",
    "        print(a)\n",
    "        c=a+b\n",
    "        a=b\n",
    "        b=c\n",
    "        count+=1\n",
    "        "
   ]
  },
  {
   "cell_type": "code",
   "execution_count": null,
   "id": "1956383a",
   "metadata": {},
   "outputs": [],
   "source": [
    "# How memory is managed in Python?\n",
    "\n",
    "Ans.) Memory management in Python involves a private heap containing all Python objects and data structures.\n",
    "      The management of this private heap is ensured internally by the Python memory manager."
   ]
  },
  {
   "cell_type": "code",
   "execution_count": null,
   "id": "5cb58100",
   "metadata": {},
   "outputs": [],
   "source": [
    "# What is the purpose continue statement in python?\n",
    "\n",
    "Ans.) The continue keyword is used to end the current iteration in a for loop (or a while loop),\n",
    "      and continues to the next iteration.\n"
   ]
  },
  {
   "cell_type": "code",
   "execution_count": 4,
   "id": "c0604e0b",
   "metadata": {},
   "outputs": [
    {
     "name": "stdout",
     "output_type": "stream",
     "text": [
      "The Value of a after swapping:8\n",
      "The Value of b after swapping:6\n"
     ]
    }
   ],
   "source": [
    "# Write python program that swap two number with temp variable\n",
    "\n",
    "a = 6\n",
    "b = 8\n",
    "#create temp variable and swap the values\n",
    "temp = a\n",
    "a = b\n",
    "b = temp\n",
    "\n",
    "print(\"The Value of a after swapping:{}\".format(a))\n",
    "print(\"The Value of b after swapping:{}\".format(b))"
   ]
  },
  {
   "cell_type": "code",
   "execution_count": 5,
   "id": "f1e7ea0f",
   "metadata": {},
   "outputs": [
    {
     "name": "stdout",
     "output_type": "stream",
     "text": [
      "a = 10\n",
      "b = 5\n"
     ]
    }
   ],
   "source": [
    "# Write python program that swap two number without temp variable.\n",
    "\n",
    "a = 5\n",
    "b = 10\n",
    "a,b = b,a\n",
    "print(\"a =\", a)\n",
    "print(\"b =\", b)"
   ]
  },
  {
   "cell_type": "code",
   "execution_count": 6,
   "id": "515327ea",
   "metadata": {},
   "outputs": [
    {
     "name": "stdout",
     "output_type": "stream",
     "text": [
      "Enter a number: 5\n",
      "5is Odd\n"
     ]
    }
   ],
   "source": [
    "# Write a Python program to find whether a given number is even or odd,\n",
    "# print out an appropriate message to the user.\n",
    "\n",
    "\n",
    "num = int(input(\"Enter a number: \"))\n",
    "if (num % 2) == 0:\n",
    "    print(\"{0}is Even\".format(num))\n",
    "else:\n",
    "    print(\"{0}is Odd\".format(num))"
   ]
  },
  {
   "cell_type": "code",
   "execution_count": 13,
   "id": "6874cb5a",
   "metadata": {},
   "outputs": [
    {
     "name": "stdout",
     "output_type": "stream",
     "text": [
      "Enter a letter of the alphabet: i\n",
      "i is a vowel.\n"
     ]
    }
   ],
   "source": [
    "# Write a Python program to test whether a passed letter is a vowel or not.\n",
    "\n",
    "std = input(\"Enter a letter of the alphabet: \")\n",
    "\n",
    "if std in ('a', 'e', 'i', 'o', 'u'):\n",
    "    print(\"%s is a vowel.\" % std)\n",
    "else:\n",
    "    print(\"%s is a consonant.\" % std) "
   ]
  },
  {
   "cell_type": "code",
   "execution_count": 14,
   "id": "38ee52b4",
   "metadata": {},
   "outputs": [
    {
     "name": "stdout",
     "output_type": "stream",
     "text": [
      "0\n",
      "0\n",
      "0\n",
      "6\n"
     ]
    }
   ],
   "source": [
    "# Write a Python program to sum of three given integers. However,if two values are equal sum will be zero.\n",
    "\n",
    "def sum_three(x, y, z):\n",
    "    if x == y or y == z or x==z:\n",
    "        sum = 0\n",
    "    else:\n",
    "        sum = x + y + z\n",
    "    return sum\n",
    "print(sum_three(2, 1, 2))\n",
    "print(sum_three(3, 2, 2))\n",
    "print(sum_three(2, 2, 2))\n",
    "print(sum_three(1, 2, 3))"
   ]
  },
  {
   "cell_type": "code",
   "execution_count": 19,
   "id": "41d85dcc",
   "metadata": {},
   "outputs": [
    {
     "name": "stdout",
     "output_type": "stream",
     "text": [
      "True\n",
      "True\n",
      "True\n",
      "False\n",
      "False\n"
     ]
    }
   ],
   "source": [
    "# Write a Python program that will return true if the two given integer values are equal or their sum or difference is 5.\n",
    "\n",
    "def number(x, y):\n",
    "    if x == y or (x-y) == 5 or (x+y) == 5:\n",
    "        return True\n",
    "    else:\n",
    "        return False\n",
    "print(number(7, 2))\n",
    "print(number(3, 2))\n",
    "print(number(2, 2))\n",
    "print(number(7, 3))\n",
    "print(number(27, 53))"
   ]
  },
  {
   "cell_type": "code",
   "execution_count": 21,
   "id": "b97fa7c5",
   "metadata": {},
   "outputs": [
    {
     "name": "stdout",
     "output_type": "stream",
     "text": [
      "Enter a Positive Integer:10\n",
      "The sum of first 10 Positive Integer 55.0\n"
     ]
    }
   ],
   "source": [
    "# Write a python program to sum of the first n positive integers\n",
    "\n",
    "n = int(input(\"Enter a Positive Integer:\"))\n",
    "total = n*(n+1)/2\n",
    "print(\"The sum of first\",n,\"Positive Integer\",total)"
   ]
  },
  {
   "cell_type": "code",
   "execution_count": 22,
   "id": "b956504b",
   "metadata": {},
   "outputs": [
    {
     "data": {
      "text/plain": [
       "20"
      ]
     },
     "execution_count": 22,
     "metadata": {},
     "output_type": "execute_result"
    }
   ],
   "source": [
    "# Write a Python program to calculate the length of a string\n",
    "\n",
    "str1 = \"addidas and cantabil\"\n",
    "len(str1)"
   ]
  },
  {
   "cell_type": "code",
   "execution_count": 29,
   "id": "93ee7174",
   "metadata": {},
   "outputs": [
    {
     "name": "stdout",
     "output_type": "stream",
     "text": [
      "Count of all characters in Gujarat is :\n",
      " {'U': 1, 't': 2, 'a': 2, 'r': 2, 'P': 1, 'd': 1, 'e': 1, 's': 1, 'h': 1}\n"
     ]
    }
   ],
   "source": [
    "# Write a Python program to count the number of characters (characterfrequency) in a string\n",
    "\n",
    "str2 = \"UttarPradesh\"\n",
    "\n",
    "freq = {}\n",
    "\n",
    "for i in str2:\n",
    "    if i in freq:\n",
    "        freq[i] += 1\n",
    "    else:\n",
    "            freq[i] = 1\n",
    "\n",
    "print(\"Count of all characters in Gujarat is :\\n \" + str(freq))\n"
   ]
  },
  {
   "cell_type": "code",
   "execution_count": null,
   "id": "25afa907",
   "metadata": {},
   "outputs": [],
   "source": [
    "#  What are negative indexes and why are they used?\n",
    "\n",
    "Ans.) Negative Indexing is used to in Python to begin slicing from the end of the string i.e. the last.\n",
    "      Slicing in Python gets a sub-string from a string.\n",
    "      The slicing range is set as parameters i.e. start, stop and step"
   ]
  },
  {
   "cell_type": "code",
   "execution_count": 35,
   "id": "a884f4b5",
   "metadata": {},
   "outputs": [
    {
     "name": "stdout",
     "output_type": "stream",
     "text": [
      "\n",
      "1\n"
     ]
    }
   ],
   "source": [
    "# Write a Python program to count occurrences of a substring in a string.\n",
    "\n",
    "str2 = \"The quick brown fox jumps over the lazy dog.\"\n",
    "print()\n",
    "print(str2.count(\"dog\"))"
   ]
  },
  {
   "cell_type": "code",
   "execution_count": 2,
   "id": "fd87c6de",
   "metadata": {},
   "outputs": [
    {
     "name": "stdout",
     "output_type": "stream",
     "text": [
      "Count of all characters in Eat an a apple a doctor a way  is :\n",
      " {'E': 1, 'a': 7, 't': 2, ' ': 7, 'n': 1, 'p': 2, 'l': 1, 'e': 1, 'd': 1, 'o': 2, 'c': 1, 'r': 1, 'w': 1, 'y': 1}\n"
     ]
    }
   ],
   "source": [
    "# Write a Python program to count the occurrences of each word in a given sentence\n",
    "\n",
    "str2 = \"Eat an a apple a doctor a way\"\n",
    "\n",
    "freq = {}\n",
    "\n",
    "for i in str2:\n",
    "    if i in freq:\n",
    "        freq[i] += 1\n",
    "    else:\n",
    "            freq[i] = 1\n",
    "print(\"Count of all characters in Eat an a apple a doctor a way  is :\\n \" + str(freq))\n"
   ]
  },
  {
   "cell_type": "code",
   "execution_count": null,
   "id": "3e3495c4",
   "metadata": {},
   "outputs": [],
   "source": []
  },
  {
   "cell_type": "code",
   "execution_count": null,
   "id": "4dd1210c",
   "metadata": {},
   "outputs": [],
   "source": []
  },
  {
   "cell_type": "code",
   "execution_count": null,
   "id": "de26678f",
   "metadata": {},
   "outputs": [],
   "source": []
  },
  {
   "cell_type": "code",
   "execution_count": null,
   "id": "52369e81",
   "metadata": {},
   "outputs": [],
   "source": []
  },
  {
   "cell_type": "code",
   "execution_count": null,
   "id": "6632b863",
   "metadata": {},
   "outputs": [],
   "source": []
  }
 ],
 "metadata": {
  "kernelspec": {
   "display_name": "Python 3 (ipykernel)",
   "language": "python",
   "name": "python3"
  },
  "language_info": {
   "codemirror_mode": {
    "name": "ipython",
    "version": 3
   },
   "file_extension": ".py",
   "mimetype": "text/x-python",
   "name": "python",
   "nbconvert_exporter": "python",
   "pygments_lexer": "ipython3",
   "version": "3.9.12"
  }
 },
 "nbformat": 4,
 "nbformat_minor": 5
}
