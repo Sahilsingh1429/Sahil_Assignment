{
 "cells": [
  {
   "cell_type": "code",
   "execution_count": null,
   "id": "a49ca86f",
   "metadata": {},
   "outputs": [],
   "source": [
    "# What is List? How will you reverse a list?\n",
    "\n",
    "Lists are used to store multiple item in a single variable.\n",
    "In Python, a built-in function called reverse() is used to reverse the list. "
   ]
  },
  {
   "cell_type": "code",
   "execution_count": 2,
   "id": "a4bfc6e0",
   "metadata": {},
   "outputs": [
    {
     "name": "stdout",
     "output_type": "stream",
     "text": [
      "[2, 33, 222, 14]\n"
     ]
    },
    {
     "data": {
      "text/plain": [
       "[2, 33, 222, 14]"
      ]
     },
     "execution_count": 2,
     "metadata": {},
     "output_type": "execute_result"
    }
   ],
   "source": [
    "# How will you remove last object from a list?\n",
    "# Suppose list1 is [2, 33, 222, 14, and 25], what is list1 [-1]? \n",
    "\n",
    "\n",
    "list1 = [2,33,222,14,25]\n",
    "list1.remove(25)\n",
    "print(list1)\n",
    "[2, 33, 222, 14]\n",
    "\n",
    "\n",
    "# list1 = [2,33,222,14,25]\n",
    "# list1[-1]\n",
    "# 25"
   ]
  },
  {
   "cell_type": "code",
   "execution_count": null,
   "id": "3b4a6048",
   "metadata": {},
   "outputs": [],
   "source": [
    "# Differentiate between append () and extend () methods? \n",
    "The append() method in the programming language Python adds an item to a list that already exists whereas \n",
    "the extend() method adds each of the iterable element which is supplied as a parameter to the end of the original"
   ]
  },
  {
   "cell_type": "code",
   "execution_count": 1,
   "id": "f0bf56d4",
   "metadata": {},
   "outputs": [
    {
     "data": {
      "text/plain": [
       "7"
      ]
     },
     "execution_count": 1,
     "metadata": {},
     "output_type": "execute_result"
    }
   ],
   "source": [
    "# Write a Python function to get the largest number, smallest num and sum\n",
    "# of all from a list. \n",
    "\n",
    "def rays(num1):\n",
    "    smallestnum=num1[0]\n",
    "    for i in num1:\n",
    "        if i<smallestnum:\n",
    "            smallestnum=i\n",
    "    return smallestnum\n",
    "list1=[34,56,7,45,23,47]\n",
    "rays(list1)\n",
    "   "
   ]
  },
  {
   "cell_type": "code",
   "execution_count": 22,
   "id": "955949e3",
   "metadata": {},
   "outputs": [
    {
     "data": {
      "text/plain": [
       "56"
      ]
     },
     "execution_count": 22,
     "metadata": {},
     "output_type": "execute_result"
    }
   ],
   "source": [
    "#  Python function to get the largest number\n",
    "\n",
    "def house(list):\n",
    "    longestnum=0\n",
    "    for i in list1:\n",
    "        if i>longestnum:\n",
    "            longestnum=i\n",
    "    return longestnum\n",
    "list1=[34,56,7,45,23,47]\n",
    "house(list1)\n",
    "\n",
    "\n",
    "    \n",
    "\n"
   ]
  },
  {
   "cell_type": "code",
   "execution_count": 4,
   "id": "7f38de0b",
   "metadata": {},
   "outputs": [
    {
     "data": {
      "text/plain": [
       "20"
      ]
     },
     "execution_count": 4,
     "metadata": {},
     "output_type": "execute_result"
    }
   ],
   "source": [
    "# Python Function sum of all from a list.  \n",
    "t1 = [2,4,6,8]\n",
    "sum(t1)"
   ]
  },
  {
   "cell_type": "code",
   "execution_count": 5,
   "id": "d1e513e9",
   "metadata": {},
   "outputs": [
    {
     "name": "stdout",
     "output_type": "stream",
     "text": [
      "The List1 and List2 are equal\n"
     ]
    }
   ],
   "source": [
    "# How will you compare two lists? \n",
    "list1 = [11, 12, 13, 14, 15]  \n",
    "list2 = [11, 12, 13, 14, 15]  \n",
    "\n",
    "a = list1\n",
    "b = list2\n",
    "if a==b:\n",
    "    print(\"The List1 and List2 are equal\")\n",
    "else:\n",
    "    print(\"The List1 and List2 are not equal\")\n",
    "    "
   ]
  },
  {
   "cell_type": "code",
   "execution_count": 80,
   "id": "e073d49f",
   "metadata": {},
   "outputs": [],
   "source": [
    "# Write a Python program to count the number of strings where the string\n",
    "# length is 2 or more and the first and last character are same from a given\n",
    "# list of strings \n",
    "\n"
   ]
  },
  {
   "cell_type": "code",
   "execution_count": 6,
   "id": "bfde088e",
   "metadata": {},
   "outputs": [
    {
     "name": "stdout",
     "output_type": "stream",
     "text": [
      "[6, 2, 4, 10, 4]\n"
     ]
    }
   ],
   "source": [
    "# Write a Python program to remove duplicates from a list. \n",
    "list2 = [2,6,2,4,10,4]\n",
    "list2.remove(2)\n",
    "print(list2)"
   ]
  },
  {
   "cell_type": "code",
   "execution_count": 7,
   "id": "3343904f",
   "metadata": {},
   "outputs": [
    {
     "name": "stdout",
     "output_type": "stream",
     "text": [
      "The List is Empty:\n"
     ]
    }
   ],
   "source": [
    "# Write a Python program to check a list is empty or not. \n",
    "list2 = []\n",
    "\n",
    "if list2:\n",
    "    print(\"The List is not Empty:\")\n",
    "else:\n",
    "    print(\"The List is Empty:\")"
   ]
  },
  {
   "cell_type": "code",
   "execution_count": 8,
   "id": "ac623524",
   "metadata": {},
   "outputs": [
    {
     "name": "stdout",
     "output_type": "stream",
     "text": [
      "True\n"
     ]
    }
   ],
   "source": [
    "def common_number(list1, list2): \n",
    "    if list2==list1:\n",
    "        return False\n",
    "    else:\n",
    "        return True\n",
    "\n",
    "\n",
    "print(common_number([1,2,3,4,5],[5,4,6,7,8]))"
   ]
  },
  {
   "cell_type": "code",
   "execution_count": 9,
   "id": "1739209a",
   "metadata": {},
   "outputs": [
    {
     "name": "stdout",
     "output_type": "stream",
     "text": [
      "[1, 4, 9, 16, 36]\n",
      "[225, 256, 289, 324, 361]\n"
     ]
    }
   ],
   "source": [
    "# Write a Python program to generate and print a list of first and last 5\n",
    "# elements where the values are square of numbers between 1 and 30. \n",
    "\n",
    "list2 = [1,4,9,16,36,49,64,81]\n",
    "list2.append(9)\n",
    "\n",
    "for i in range(1,20):\n",
    "    list2.append(i**2)\n",
    "print(list2[:5])\n",
    "print(list2[-5:])    "
   ]
  },
  {
   "cell_type": "code",
   "execution_count": 10,
   "id": "6949cfc1",
   "metadata": {},
   "outputs": [
    {
     "name": "stdout",
     "output_type": "stream",
     "text": [
      "[2, 3, 5, 6, 7, 8, 9, 56]\n"
     ]
    }
   ],
   "source": [
    "# Write a Python function that takes a list and returns a new list with unique elements of the first list. \n",
    "def unique_list(lst):\n",
    "    return list(set(lst))\n",
    "    \n",
    "my_list = [5,6,2,3,56,7,8,9]\n",
    "unique_elements = unique_list(my_list)\n",
    "print(unique_elements)"
   ]
  },
  {
   "cell_type": "code",
   "execution_count": 11,
   "id": "e1acb676",
   "metadata": {},
   "outputs": [
    {
     "name": "stdout",
     "output_type": "stream",
     "text": [
      "Samson\n"
     ]
    }
   ],
   "source": [
    "# Write a Python program to convert a list of characters into a string\n",
    "\n",
    "list1 = ['S','a','m','s','o','n']\n",
    "str1 = \"\".join(list1)\n",
    "print(str1)"
   ]
  },
  {
   "cell_type": "code",
   "execution_count": 12,
   "id": "e2663a0f",
   "metadata": {},
   "outputs": [
    {
     "name": "stdout",
     "output_type": "stream",
     "text": [
      "Violet\n"
     ]
    }
   ],
   "source": [
    "# Write a Python program to select an item randomly from a list. \n",
    "\n",
    "import random\n",
    "\n",
    "color_lst = ['Red','Black','Blue','Green','Violet','Orange']\n",
    "print(random.choice(color_lst))"
   ]
  },
  {
   "cell_type": "code",
   "execution_count": 13,
   "id": "47df1958",
   "metadata": {},
   "outputs": [
    {
     "name": "stdout",
     "output_type": "stream",
     "text": [
      "4\n"
     ]
    }
   ],
   "source": [
    "# Write a Python program to find the second smallest number in a list. \n",
    "def second_smallest(sst):\n",
    "    smallest= min(sst)\n",
    "    sst.remove(smallest)\n",
    "    second_smallest = min(sst)\n",
    "    return second_smallest\n",
    "    \n",
    "    \n",
    "my_list2 = [6,2,4,7,8,9,10,12,32]\n",
    "second_smallest =second_smallest(my_list2)\n",
    "print(second_smallest)"
   ]
  },
  {
   "cell_type": "code",
   "execution_count": 14,
   "id": "f9b8af35",
   "metadata": {},
   "outputs": [
    {
     "name": "stdout",
     "output_type": "stream",
     "text": [
      "Original List: [10, 20, 30, 40, 20, 40, 50, 60]\n",
      "New List: [40, 10, 50, 20, 60, 30]\n"
     ]
    }
   ],
   "source": [
    "# Write a Python program to get unique values from a list\n",
    "\n",
    "my_list1 = [10,20,30,40,20,40,50,60]\n",
    "print(\"Original List:\",my_list1)\n",
    "set2 = set(my_list1)\n",
    "mynew_list = list(set2)\n",
    "print(\"New List:\",mynew_list)"
   ]
  },
  {
   "cell_type": "code",
   "execution_count": 15,
   "id": "09f6c941",
   "metadata": {},
   "outputs": [
    {
     "name": "stdout",
     "output_type": "stream",
     "text": [
      "True\n"
     ]
    }
   ],
   "source": [
    "# Write a Python program to check whether a list contains a sub list \n",
    "\n",
    "def sublist(list,sublist):\n",
    "    for i in sublist:\n",
    "        if i not in list:\n",
    "            return False\n",
    "    return True    \n",
    "        \n",
    "           \n",
    "    \n",
    "\n",
    "lstt=[1,2,3,4,5,6,7,8]\n",
    "sstt=[4,5,6]\n",
    "print(sublist(lstt,sstt))"
   ]
  },
  {
   "cell_type": "code",
   "execution_count": 16,
   "id": "77cb50bb",
   "metadata": {},
   "outputs": [
    {
     "name": "stdout",
     "output_type": "stream",
     "text": [
      "2\n",
      "4\n",
      "6\n",
      "8\n",
      "10\n",
      "12\n"
     ]
    }
   ],
   "source": [
    "# Write a Python program to split a list into different variables.\n",
    "\n",
    "list2 = [2,4,6,8,10,12]\n",
    "a,b,c,d,e,f=list2\n",
    "print(a)\n",
    "print(b)\n",
    "print(c)\n",
    "print(d)\n",
    "print(e)\n",
    "print(f)\n"
   ]
  },
  {
   "cell_type": "code",
   "execution_count": null,
   "id": "4ddfccff",
   "metadata": {},
   "outputs": [],
   "source": [
    "# What is tuple? Difference between list and tuple. \n",
    "\n",
    "Tuple are used to store multiple item in a single variable\n",
    "tuple is one of 4 built in data type in python used to store collections of data,the other 3 are List,Set,Dictionary\n",
    "A tuple is a collection which is ordered and unchangebale.\n",
    "Tuples are written with round brackets.\n",
    "\n",
    "Difference between List & Tuple\n",
    "      List                |        Tuple\n",
    "1.)Lists are Mutable      |1.)Tuples are immutable\n",
    "2.)Lists Consume more     |2.)Tuples Consumes less memory\n",
    "Memory                    |as comparedto the list\n",
    "3.)Lists have several     |3.)Tuples does not have many \n",
    "built-in methods          |built -in methods.\n",
    "4.)The implications of    |4.)The implication of iterations \n",
    "iterations is Time        |is comparatively Faster.\n",
    "consuming                 |"
   ]
  },
  {
   "cell_type": "code",
   "execution_count": 17,
   "id": "a655b53b",
   "metadata": {},
   "outputs": [
    {
     "name": "stdout",
     "output_type": "stream",
     "text": [
      "('Mango', 2, 3.14, True)\n"
     ]
    }
   ],
   "source": [
    "# Write a Python program to create a tuple with different data types. \n",
    "\n",
    "my_tuple=(\"Mango\",2,3.14,True)\n",
    "print(my_tuple)"
   ]
  },
  {
   "cell_type": "code",
   "execution_count": 18,
   "id": "0a9ace92",
   "metadata": {},
   "outputs": [
    {
     "name": "stdout",
     "output_type": "stream",
     "text": [
      "(1, 2, 3, 4, 56, 78)\n",
      "56\n"
     ]
    }
   ],
   "source": [
    "# Write a Python program to create a tuple with numbers. \n",
    "\n",
    "my_tuple1=(1,2,3,4,56,78)\n",
    "print(my_tuple1)\n",
    "my_tuple2=56\n",
    "print(my_tuple2)"
   ]
  },
  {
   "cell_type": "code",
   "execution_count": 19,
   "id": "6ee19c51",
   "metadata": {},
   "outputs": [
    {
     "name": "stdout",
     "output_type": "stream",
     "text": [
      "('Hanmuman', 'Lord Shiva', 'Lord Krishna', 'Lord Lakshmi', 'Lord Saraswati')\n"
     ]
    }
   ],
   "source": [
    "# Write a Python program to convert a tuple to a string\n",
    "\n",
    "tuple2 = (\"Hanmuman\",\"Lord Shiva\",\"Lord Krishna\",\"Lord Lakshmi\",\"Lord Saraswati\")\n",
    "str1=str(tuple2)\n",
    "print(str1)"
   ]
  },
  {
   "cell_type": "code",
   "execution_count": 20,
   "id": "b1c43b32",
   "metadata": {},
   "outputs": [
    {
     "name": "stdout",
     "output_type": "stream",
     "text": [
      "True\n",
      "False\n"
     ]
    }
   ],
   "source": [
    "# Write a Python program to check whether an element exists within a tuple.\n",
    "\n",
    "tuple2 = (\"DINO\",\"LION\",\"WILD\",5,5.4,90)\n",
    "print(\"LION\" in tuple2)\n",
    "print(6 in tuple2)"
   ]
  },
  {
   "cell_type": "code",
   "execution_count": 21,
   "id": "dfbe43cf",
   "metadata": {},
   "outputs": [
    {
     "data": {
      "text/plain": [
       "5"
      ]
     },
     "execution_count": 21,
     "metadata": {},
     "output_type": "execute_result"
    }
   ],
   "source": [
    "# Write a Python program to find the length of a tuple. \n",
    "\n",
    "tuple1 =(\"Dinosour\",67,5,6,\"Sher11\")\n",
    "len(tuple1)\n",
    "# type(tuple1)"
   ]
  },
  {
   "cell_type": "code",
   "execution_count": 22,
   "id": "1bf7f2ed",
   "metadata": {},
   "outputs": [
    {
     "name": "stdout",
     "output_type": "stream",
     "text": [
      "(23, 45, 67, 87, 65)\n"
     ]
    }
   ],
   "source": [
    "# Write a Python program to convert a list to a tuple. \n",
    "\n",
    "list1 = [23,45,67,87,65]\n",
    "tuple2=tuple(list1)\n",
    "print(tuple2)"
   ]
  },
  {
   "cell_type": "code",
   "execution_count": 23,
   "id": "4622ada6",
   "metadata": {},
   "outputs": [
    {
     "name": "stdout",
     "output_type": "stream",
     "text": [
      "(47, 43, 65, 98, 78, 23, 12)\n"
     ]
    }
   ],
   "source": [
    "# Write a Python program to reverse a tuple. \n",
    "\n",
    "x = (12,23,78,98,65,43,47)\n",
    "y=reversed(x)\n",
    "print(tuple(y))\n",
    "\n",
    "# Another Method\n",
    "\n",
    "# tuple2 = ('Apple','Orange','Kiwi')\n",
    "# reversed_tuple= tuple2[::-1]\n",
    "# print(reversed_tuple)"
   ]
  },
  {
   "cell_type": "code",
   "execution_count": 26,
   "id": "72620d98",
   "metadata": {},
   "outputs": [
    {
     "name": "stdout",
     "output_type": "stream",
     "text": [
      "[(1, 2, 3, 4), (5, 6, 7, 8), (9, 10, 11, 12)]\n"
     ]
    }
   ],
   "source": [
    "# Write a Python program to replace last value of tuples in a list. \n",
    "\n",
    "new_list1=[(1,2,3,4),(5,6,7,8),(9,10,11,12)]\n",
    "new_value =1406\n",
    "\n",
    "new_list = [tuple(list(i)[:-1]+[new_value]) for i in new_list1]\n",
    "print(new_list1)"
   ]
  },
  {
   "cell_type": "code",
   "execution_count": 27,
   "id": "45b334d8",
   "metadata": {},
   "outputs": [
    {
     "name": "stdout",
     "output_type": "stream",
     "text": [
      "(12, 32, 43, 43, 12, 87, 76, 87, 54, 98, 67)\n",
      "6\n"
     ]
    }
   ],
   "source": [
    "# Write a Python program to find the repeated items of a tuple. \n",
    "tuple1 = (12,32,43,43,12,87,76,87,54,98,67)\n",
    "print(tuple1)\n",
    "count=tuple1.count(12)\n",
    "print(c)"
   ]
  },
  {
   "cell_type": "code",
   "execution_count": 2,
   "id": "50e0a93b",
   "metadata": {},
   "outputs": [
    {
     "name": "stdout",
     "output_type": "stream",
     "text": [
      "[(1, 2, 3, 4), (5, 6, 7, 8), (7, 8, 9, 10)]\n"
     ]
    }
   ],
   "source": [
    "my_list1=[(1,2,3,4),(5,6,7,8),(),(7,8,9,10)]\n",
    "new_list2=list(filter(lambda x:x!=(),my_list1))\n",
    "print(new_list2)"
   ]
  },
  {
   "cell_type": "code",
   "execution_count": 3,
   "id": "e6160c62",
   "metadata": {},
   "outputs": [
    {
     "name": "stdout",
     "output_type": "stream",
     "text": [
      "[1, 2, 3, 4]\n",
      "[4, 5, 6, 7]\n",
      "[4, 5, 8, 9]\n",
      "[5, 7, 2]\n",
      "[2, 1]\n"
     ]
    }
   ],
   "source": [
    "# Write a Python program to unzip a list of tuples into individual lists.\n",
    "\n",
    "list1=[(1,2,3,4),(4,5,6,7),(4,5,8,9),(5,7,2),(2,1)]\n",
    "for i in list1:\n",
    "    print(list(i))"
   ]
  },
  {
   "cell_type": "code",
   "execution_count": 4,
   "id": "cb54048e",
   "metadata": {},
   "outputs": [
    {
     "name": "stdout",
     "output_type": "stream",
     "text": [
      "{'Apple': 2, 'PineApple': 4, 'Mango': 6}\n"
     ]
    }
   ],
   "source": [
    "# Write a Python program to convert a list of tuples into a dictionary.\n",
    "\n",
    "list2 =[(\"Apple\",2),(\"PineApple\",4),(\"Mango\",6)]\n",
    "\n",
    "my_dict= dict(list2)\n",
    "print(my_dict)"
   ]
  },
  {
   "cell_type": "code",
   "execution_count": 23,
   "id": "9dcdf98f",
   "metadata": {},
   "outputs": [
    {
     "name": "stdout",
     "output_type": "stream",
     "text": [
      "{'Tomato': 'Red', 'Chillie': 'Red'}\n"
     ]
    }
   ],
   "source": [
    "# How will you create a dictionary using tuples in python? \n",
    "\n",
    "# 1.) Using the dict() constructor with the list of tuples:\n",
    "    \n",
    "# list1= [('Cherry','eat'),('Banana','Fruit'),('Apple','Red')]\n",
    "# dict1=dict(list1)\n",
    "# print(dict1)\n",
    "\n",
    "\n",
    "# 2.) Using Dictionary Comphrension:\n",
    "    \n",
    "# list2=[('Cabbage','green'),('Tomato','red'),('Chilies','Green'),('Capsicum','green')]\n",
    "# dict2={key:value for key, value in list2}\n",
    "# print(dict2)\n",
    "\n",
    "\n",
    "# 3.) Using the fromkeys() methods with a tuple of keys and a default value\n",
    "\n",
    "keys = {'Tomato':'Chillies','Chillie':'Powder'}\n",
    "dict3 = dict.fromkeys(keys,'Red')\n",
    "print(dict3)"
   ]
  },
  {
   "cell_type": "code",
   "execution_count": 2,
   "id": "fb8d5fa7",
   "metadata": {},
   "outputs": [
    {
     "name": "stdout",
     "output_type": "stream",
     "text": [
      "{'Script': 'Language', 'Bus': 'Driver', 'Truck': 'Big'}\n"
     ]
    }
   ],
   "source": [
    "# Write a Python script to sort (ascending and descending) a dictionary by value. \n",
    "\n",
    "dict4 = {\"Script\":\"Language\",\"Bus\":\"Driver\",\"Truck\":\"Big\"}\n",
    "print(dict4)\n",
    "dict4.get(3)"
   ]
  },
  {
   "cell_type": "code",
   "execution_count": 12,
   "id": "fecf7e3a",
   "metadata": {},
   "outputs": [
    {
     "name": "stdout",
     "output_type": "stream",
     "text": [
      "{'Apple': 2, 'Grapes': 3, 'Cherry': 4, 'Watermelon': 1, 'Jamun': 6, 'Banana': 8}\n"
     ]
    }
   ],
   "source": [
    "# Write a Python script to concatenate following dictionaries to create a new one. \n",
    "dict1 ={\"Apple\":2,\"Grapes\":3}\n",
    "dict2= {\"Cherry\":4,\"Watermelon\":1}\n",
    "dict3 ={\"Jamun\":6,\"Banana\":8}\n",
    "dict4={}\n",
    "\n",
    "for d in [dict1,dict2,dict3]:\n",
    "    dict4.update(d)\n",
    "    \n",
    "print(dict4)\n",
    "    "
   ]
  },
  {
   "cell_type": "code",
   "execution_count": 15,
   "id": "5f6b853b",
   "metadata": {},
   "outputs": [
    {
     "name": "stdout",
     "output_type": "stream",
     "text": [
      "Bolero,exist in dictionary\n"
     ]
    }
   ],
   "source": [
    "# Write a Python script to check if a given key already exists in a dictionary.\n",
    "\n",
    "dict4 = {\"Scorpio\":2,\"Bolero\":4,\"Mercedes\":5}\n",
    "key=\"Bolero\"\n",
    "\n",
    "if key in dict4:\n",
    "    print(f\"{key},exist in dictionary\")\n",
    "else:\n",
    "    print(f\"{key},does not exist in dictionary\")"
   ]
  },
  {
   "cell_type": "code",
   "execution_count": 18,
   "id": "ed1537a3",
   "metadata": {},
   "outputs": [
    {
     "name": "stdout",
     "output_type": "stream",
     "text": [
      "4\n",
      "the factorial of given number is: 24\n"
     ]
    }
   ],
   "source": [
    "num=int(input())\n",
    "f=1\n",
    "for num in range(1,num+1):\n",
    "    f=f*num\n",
    "print(\"the factorial of given number is:\",f)"
   ]
  },
  {
   "cell_type": "code",
   "execution_count": 9,
   "id": "1d20bd65",
   "metadata": {},
   "outputs": [
    {
     "data": {
      "text/plain": [
       "dict_items([('Name', 'Ajay'), ('City', 'Surat'), ('Age', 20)])"
      ]
     },
     "execution_count": 9,
     "metadata": {},
     "output_type": "execute_result"
    }
   ],
   "source": [
    "# How Do You Traverse Through A Dictionary Object In Python? \n",
    "\n",
    "# dict3 = {'chair':2,'Table':3,'Sofa':6}\n",
    "\n",
    "# for key in dict3:\n",
    "#     print(key,dict3[key])\n",
    "\n",
    "# my_dict = {\"name\": \"John\", \"age\": 30, \"city\": \"New York\"}\n",
    "# my_dict\n",
    "# my_dict.keys()\n",
    "\n",
    "my_dict2 = {\"Name\":\"Ajay\",\"City\":\"Surat\",\"Age\":20}\n",
    "my_dict2.items()\n"
   ]
  },
  {
   "cell_type": "code",
   "execution_count": 32,
   "id": "04e26ccd",
   "metadata": {},
   "outputs": [
    {
     "name": "stdout",
     "output_type": "stream",
     "text": [
      "the key\"Apple\" is present in dictionary\n",
      "the key \"Cherry\" is not in dictionary\n"
     ]
    }
   ],
   "source": [
    "#  How Do You Check The Presence Of A Key In A Dictionary?\n",
    "# using in keyword\n",
    "dict3 = {\"Apple\":3,\"Cherry\":6,\"Pineapple\":5}\n",
    "\n",
    "if \"Apple\" in dict3:\n",
    "    print('the key\"Apple\" is present in dictionary')\n",
    "    \n",
    "else:\n",
    "    print('the key \"Apple\" is not present in dictionary')\n",
    "    \n",
    "    \n",
    "# Using get method\n",
    "dict4 = {\"Apple\":6,\"Stwaberry\":9,\"Banana\":3}\n",
    "if dict4.get(\"Cheerry\"):\n",
    "        print('the key \"Cherry\"is in dictionary')\n",
    "        \n",
    "else:\n",
    "    print('the key \"Cherry\" is not in dictionary')"
   ]
  },
  {
   "cell_type": "code",
   "execution_count": 34,
   "id": "f7f1fc68",
   "metadata": {},
   "outputs": [
    {
     "name": "stdout",
     "output_type": "stream",
     "text": [
      "{1: None, 2: None, 3: None, 4: None, 5: None, 6: None, 7: None, 8: None, 9: None, 10: None, 11: None, 12: None, 13: None, 14: None, 15: None}\n"
     ]
    }
   ],
   "source": [
    "# Write a Python script to print a dictionary where the keys are numbers between 1 and 15.\n",
    "\n",
    "dict5 = {}\n",
    "\n",
    "for i in range(1,16):\n",
    "    dict5[i]=None\n",
    "    \n",
    "print(dict5)\n",
    "    \n",
    "    "
   ]
  },
  {
   "cell_type": "code",
   "execution_count": 20,
   "id": "247b596d",
   "metadata": {},
   "outputs": [
    {
     "data": {
      "text/plain": [
       "3"
      ]
     },
     "execution_count": 20,
     "metadata": {},
     "output_type": "execute_result"
    }
   ],
   "source": [
    "# Write a Python program to check multiple keys exists in a dictionary \n",
    "dict2={\"shop\":3,\"Crops\":5,\"feed\":7}\n",
    "len(dict2)"
   ]
  },
  {
   "cell_type": "code",
   "execution_count": 39,
   "id": "b71e30e3",
   "metadata": {},
   "outputs": [
    {
     "name": "stdout",
     "output_type": "stream",
     "text": [
      "{'name': 'Ajay', 'Age': 30, 'City': 'Ahmedabad', 'Country': 'India', 'Qualification': 'B.E'}\n",
      "{'Tiffin': 4, 'WaterBottle': 3, 'Bag': 2, 'Suitcase': 4, 'Handbag': 6, 'Biscuits': 10}\n"
     ]
    }
   ],
   "source": [
    "# Write a Python script to merge two Python dictionaries \n",
    "\n",
    "dict1 = {\"name\":\"Ajay\",\"Age\":30,\"City\":\"Ahmedabad\"}\n",
    "dict2 = {\"Country\":\"India\",\"Qualification\":\"B.E\"}\n",
    "dict1.update(dict2)\n",
    "print(dict1)\n",
    "\n",
    "\n",
    "dict3 = {\"Tiffin\":4,\"WaterBottle\":3,\"Bag\":2}\n",
    "dict4 = {\"Suitcase\":4,\"Handbag\":6,\"Biscuits\":10}\n",
    "\n",
    "dict5 = {**dict3,**dict4}\n",
    "print(dict5)\n"
   ]
  },
  {
   "cell_type": "code",
   "execution_count": 18,
   "id": "cd34a2de",
   "metadata": {},
   "outputs": [
    {
     "name": "stdout",
     "output_type": "stream",
     "text": [
      "{'Apple': 8, 'Pineapple': 'Tasty', 'Banana': 'Yellow', 'Grapes': 'Green'}\n"
     ]
    }
   ],
   "source": [
    "# Write a Python program to map two lists into a dictionary \n",
    "\n",
    "key = [\"Apple\",\"Pineapple\",\"Banana\",\"Grapes\"]\n",
    "values = [8,\"Tasty\",\"Yellow\",\"Green\"]\n",
    "\n",
    "dict3 = dict(zip(key,values))   \n",
    "print(dict3)"
   ]
  },
  {
   "cell_type": "code",
   "execution_count": 19,
   "id": "92fcf31a",
   "metadata": {},
   "outputs": [
    {
     "name": "stdout",
     "output_type": "stream",
     "text": [
      "{'a': 400, 'b': 400, 'c': 300, 'd': 400}\n"
     ]
    }
   ],
   "source": [
    "# Write a Python program to combine two dictionary adding values for common keys. \n",
    "\n",
    "dict1 = {'a': 100, 'b': 200, 'c':300}\n",
    "dict2 = {'a': 300, 'b': 200,'d':400}\n",
    "\n",
    "for key,values in dict2.items():\n",
    "    if key in dict1:\n",
    "        dict1[key]+= values\n",
    "        \n",
    "    else:\n",
    "        dict1[key]=values\n",
    "        \n",
    "print(dict1)"
   ]
  },
  {
   "cell_type": "code",
   "execution_count": 20,
   "id": "47124b73",
   "metadata": {},
   "outputs": [
    {
     "name": "stdout",
     "output_type": "stream",
     "text": [
      "2\n",
      "3\n",
      "4\n"
     ]
    }
   ],
   "source": [
    "# Write a Python program to print all unique values in a dictionary\n",
    "\n",
    "dict1 = {\"horse\":2,\"giraffe\":2,\"Sheep\":3,\"Dog\":3,\"Cat\":4,\"Lion\":4}\n",
    "\n",
    "uv =set(dict1.values())\n",
    "\n",
    "for values in uv:\n",
    "    print(values)"
   ]
  },
  {
   "cell_type": "code",
   "execution_count": 21,
   "id": "8d583c2e",
   "metadata": {},
   "outputs": [],
   "source": [
    "# Why Do You Use the Zip () Method in Python? \n",
    "\n",
    "# In Python, the zip() method is used to combine two or more iterables (e.g., lists, tuples, etc.) into a single iterable of tuples. \n",
    "# Each tuple contains the corresponding elements from the original iterables, which are matched by their position in the iterables."
   ]
  },
  {
   "cell_type": "code",
   "execution_count": 19,
   "id": "0dba3f40",
   "metadata": {},
   "outputs": [
    {
     "name": "stdout",
     "output_type": "stream",
     "text": [
      "ac ad bc bd "
     ]
    }
   ],
   "source": [
    "# Write a Python program to create and display all combinations of letters,\n",
    "# selecting each letter from a different key in a dictionary.\n",
    "\n",
    "dict1= {'1':['a','b'],'2':['c','d']}\n",
    "t1=tuple(dict1.values())\n",
    "l1=t1[0]\n",
    "l2=t1[1]\n",
    "for i in l1:\n",
    "    for j in l2:\n",
    "        print(i+j,end=' ')"
   ]
  },
  {
   "cell_type": "code",
   "execution_count": null,
   "id": "d2033c8f",
   "metadata": {},
   "outputs": [],
   "source": [
    "# Write a Python program to find the highest 3 values in a dictionary\n",
    "\n"
   ]
  },
  {
   "cell_type": "code",
   "execution_count": 6,
   "id": "12e7e409",
   "metadata": {},
   "outputs": [
    {
     "name": "stdout",
     "output_type": "stream",
     "text": [
      "{'item': ['item1', 'item2', 'item1'], 'amount': [400, 300, 750]}\n"
     ]
    }
   ],
   "source": [
    "# Write a Python program to combine values in python list of dictionaries\n",
    "\n",
    "list1= [\n",
    "{'item': 'item1', 'amount': 400}, \n",
    "{'item': 'item2', 'amount':300},  \n",
    "{'item': 'item1', 'amount': 750}\n",
    "]\n",
    "\n",
    "dict2={}\n",
    "\n",
    "for my_dict in list1:\n",
    "    for key,value in my_dict.items():\n",
    "        if key in dict2:\n",
    "            dict2[key].append(value)\n",
    "            \n",
    "        else:\n",
    "            dict2[key]=[value]\n",
    "print(dict2)\n",
    "            \n",
    "            \n",
    "            \n"
   ]
  },
  {
   "cell_type": "code",
   "execution_count": 1,
   "id": "14a58e73",
   "metadata": {},
   "outputs": [
    {
     "name": "stdout",
     "output_type": "stream",
     "text": [
      "Enter a Stringw3resource\n",
      "{'w': 1, '3': 1, 'r': 2, 'e': 2, 's': 1, 'o': 1, 'u': 1, 'c': 1}\n"
     ]
    }
   ],
   "source": [
    "# Write a Python program to create a dictionary from a string. \n",
    "\n",
    "str1 = input(\"Enter a String\")\n",
    "\n",
    "dict2 = {}\n",
    "\n",
    "for i in str1:\n",
    "    if i in dict2:\n",
    "        dict2[i]+=1\n",
    "    \n",
    "    else:\n",
    "        dict2[i]=1\n",
    "        \n",
    "print(dict2)\n"
   ]
  },
  {
   "cell_type": "code",
   "execution_count": 2,
   "id": "698520f4",
   "metadata": {},
   "outputs": [
    {
     "name": "stdout",
     "output_type": "stream",
     "text": [
      "120\n"
     ]
    }
   ],
   "source": [
    "# Write a Python function to calculate the factorial of a number\n",
    "\n",
    "def sun(num):\n",
    "    sun=1\n",
    "    for num in range(1,num+1):\n",
    "        sun=sun*num\n",
    "    return sun\n",
    "print(sun(5))\n",
    "    \n"
   ]
  },
  {
   "cell_type": "code",
   "execution_count": 4,
   "id": "63f7c930",
   "metadata": {},
   "outputs": [],
   "source": [
    "# Write a Python function to check whether a number is in a given range\n",
    "\n",
    "def bed(num,start,end):\n",
    "    if num >= start and num<=end:\n",
    "        return True\n",
    "    else:\n",
    "        return False\n"
   ]
  },
  {
   "cell_type": "code",
   "execution_count": 5,
   "id": "0519240f",
   "metadata": {},
   "outputs": [
    {
     "data": {
      "text/plain": [
       "True"
      ]
     },
     "execution_count": 5,
     "metadata": {},
     "output_type": "execute_result"
    }
   ],
   "source": [
    "bed(5,1,10)"
   ]
  },
  {
   "cell_type": "code",
   "execution_count": 6,
   "id": "6c9d1633",
   "metadata": {},
   "outputs": [
    {
     "data": {
      "text/plain": [
       "False"
      ]
     },
     "execution_count": 6,
     "metadata": {},
     "output_type": "execute_result"
    }
   ],
   "source": [
    "bed(15,1,10)"
   ]
  },
  {
   "cell_type": "code",
   "execution_count": 7,
   "id": "e4b918c2",
   "metadata": {},
   "outputs": [],
   "source": [
    "# Write a Python function to check whether a number is perfect or not.\n",
    "\n",
    "def perfect(num):\n",
    "    \n",
    "    factors=[]\n",
    "    for i in range(1,num):\n",
    "        if num%i==0:\n",
    "            factors.append(i)\n",
    "    if sum(factors)==num:\n",
    "        return True\n",
    "    else:\n",
    "        return False\n"
   ]
  },
  {
   "cell_type": "code",
   "execution_count": 24,
   "id": "096b7f61",
   "metadata": {},
   "outputs": [
    {
     "data": {
      "text/plain": [
       "True"
      ]
     },
     "execution_count": 24,
     "metadata": {},
     "output_type": "execute_result"
    }
   ],
   "source": [
    "perfect(28)"
   ]
  },
  {
   "cell_type": "code",
   "execution_count": 34,
   "id": "0be594ff",
   "metadata": {},
   "outputs": [],
   "source": [
    "# Write a Python function that checks whether a passed string is palindrome or not \n",
    "\n",
    "def palindrome(str1):\n",
    "\n",
    "    reversed_string=str1[::-1]\n",
    "    if str1==reversed_string:\n",
    "        return True\n",
    "    else:\n",
    "        return False"
   ]
  },
  {
   "cell_type": "code",
   "execution_count": 36,
   "id": "681476e6",
   "metadata": {},
   "outputs": [
    {
     "data": {
      "text/plain": [
       "True"
      ]
     },
     "execution_count": 36,
     "metadata": {},
     "output_type": "execute_result"
    }
   ],
   "source": [
    "palindrome(\"level\")"
   ]
  },
  {
   "cell_type": "code",
   "execution_count": null,
   "id": "4c0aa715",
   "metadata": {},
   "outputs": [],
   "source": [
    "# How Many Basic Types Of Functions Are Available In Python?\n",
    "\n",
    "# There are mainly three types of Functions:\n",
    "\n",
    "# 1.) UserDefined Functions \n",
    "# 2.) Built-In Function  (print(), len(), type(), int(), float(), str())\n",
    "# 3.)Annonyoumus Function"
   ]
  },
  {
   "cell_type": "code",
   "execution_count": 43,
   "id": "35866f05",
   "metadata": {},
   "outputs": [
    {
     "name": "stdout",
     "output_type": "stream",
     "text": [
      "5\n"
     ]
    }
   ],
   "source": [
    "# How can you pick a random item from a list or tuple? \n",
    "import random\n",
    "\n",
    "# list2 = [\"apple\",\"Cherry\",\"Butter\"]\n",
    "# item=random.choice(list2)\n",
    "# print(item)\n",
    "\n",
    "tuple2= (1,2,3,4,5,6)\n",
    "item=random.choice(tuple2)\n",
    "print(item)"
   ]
  },
  {
   "cell_type": "code",
   "execution_count": 44,
   "id": "00113fa7",
   "metadata": {},
   "outputs": [
    {
     "name": "stdout",
     "output_type": "stream",
     "text": [
      "10\n"
     ]
    }
   ],
   "source": [
    "# How can you pick a random item from a range?\n",
    "\n",
    "import random \n",
    "# inclusive\n",
    "number=random.randint(1,10) \n",
    "print(number)"
   ]
  },
  {
   "cell_type": "code",
   "execution_count": 45,
   "id": "f5e7f126",
   "metadata": {},
   "outputs": [
    {
     "name": "stdout",
     "output_type": "stream",
     "text": [
      "5\n"
     ]
    }
   ],
   "source": [
    "# How can you get a random number in python?\n",
    "\n",
    "import random\n",
    "number=random.randint(0,9)\n",
    "print(number)"
   ]
  },
  {
   "cell_type": "code",
   "execution_count": 46,
   "id": "7505f913",
   "metadata": {},
   "outputs": [
    {
     "name": "stdout",
     "output_type": "stream",
     "text": [
      "6\n"
     ]
    }
   ],
   "source": [
    "# How will you set the starting value in generating random numbers? \n",
    "\n",
    "import random\n",
    "\n",
    "random.seed(12345)\n",
    "number=random.randint(0,9)\n",
    "print(number)"
   ]
  },
  {
   "cell_type": "code",
   "execution_count": 47,
   "id": "5b3951fd",
   "metadata": {},
   "outputs": [
    {
     "name": "stdout",
     "output_type": "stream",
     "text": [
      "[4, 5, 2, 3, 1, 6]\n"
     ]
    }
   ],
   "source": [
    "# How will you randomizes the items of a list in place? \n",
    "\n",
    "import random \n",
    "\n",
    "list3=[1,2,3,4,5,6]\n",
    "random.shuffle(list3)\n",
    "print(list3)"
   ]
  },
  {
   "cell_type": "code",
   "execution_count": 49,
   "id": "f4904efc",
   "metadata": {},
   "outputs": [
    {
     "name": "stdout",
     "output_type": "stream",
     "text": [
      "MY Hobbies is Playing Cricket,PLaying Indoor Games Like Chess,Ludo,etc...\n",
      "\n"
     ]
    }
   ],
   "source": [
    "# Write a Python program to read a random line from a file. \n",
    "\n",
    "import random\n",
    "\n",
    "with open('players.txt', 'r') as file:\n",
    "    lines = file.readlines()\n",
    "\n",
    "random_line = random.choice(lines)\n",
    "\n",
    "print(random_line)\n"
   ]
  },
  {
   "cell_type": "code",
   "execution_count": 50,
   "id": "bf88310b",
   "metadata": {},
   "outputs": [
    {
     "name": "stdout",
     "output_type": "stream",
     "text": [
      "Input Degrees:45\n",
      "0.7857142857142857\n"
     ]
    }
   ],
   "source": [
    "# Write a Python program to convert degree to radian\n",
    "\n",
    "pi=22/7\n",
    "\n",
    "degree = float(input(\"Input Degrees:\"))\n",
    "radian=degree*(pi/180)\n",
    "print(radian)"
   ]
  },
  {
   "cell_type": "code",
   "execution_count": 52,
   "id": "e23b9646",
   "metadata": {},
   "outputs": [
    {
     "name": "stdout",
     "output_type": "stream",
     "text": [
      "60.0\n"
     ]
    }
   ],
   "source": [
    "# Write a Python program to calculate the area of a trapezoid \n",
    "\n",
    "base1=5\n",
    "base2=7\n",
    "height=10\n",
    "area=(base1+base2)*height/2\n",
    "print(area)"
   ]
  },
  {
   "cell_type": "code",
   "execution_count": 53,
   "id": "745b9a3e",
   "metadata": {},
   "outputs": [
    {
     "name": "stdout",
     "output_type": "stream",
     "text": [
      "50\n"
     ]
    }
   ],
   "source": [
    "# Write a Python program to calculate the area of a parallelogram \n",
    "\n",
    "base=5\n",
    "height=10\n",
    "area=base*height\n",
    "print(area)"
   ]
  },
  {
   "cell_type": "code",
   "execution_count": 60,
   "id": "5b13eccc",
   "metadata": {},
   "outputs": [
    {
     "name": "stdout",
     "output_type": "stream",
     "text": [
      "2514.285714285714\n"
     ]
    }
   ],
   "source": [
    "# Write a Python program to calculate surface volume and area of a cylinder \n",
    "\n",
    "pi=22/7\n",
    "\n",
    "# height=10\n",
    "# radius=20\n",
    "\n",
    "# vol_cylinder=pi*radius*radius*height\n",
    "# print(vol_cylinder)\n",
    "\n",
    "\n",
    "\n",
    "# surface area\n",
    "\n",
    "height=30\n",
    "radius=10\n",
    "\n",
    "surface_area=2*(pi*radius*height)+2*(pi*radius**2)\n",
    "print(surface_area)"
   ]
  },
  {
   "cell_type": "code",
   "execution_count": 77,
   "id": "327542b1",
   "metadata": {},
   "outputs": [
    {
     "data": {
      "text/plain": [
       "28"
      ]
     },
     "execution_count": 77,
     "metadata": {},
     "output_type": "execute_result"
    }
   ],
   "source": [
    "# Write a Python program to returns sum of all divisors of a number \n",
    "\n",
    "def sum_of_divisors(num):\n",
    "    divisors_sum = 0\n",
    "    for i in range(1, num+1):\n",
    "        if num % i == 0:\n",
    "            divisors_sum += i\n",
    "    return divisors_sum\n",
    "\n",
    "\n",
    "sum_of_divisors(12)"
   ]
  },
  {
   "cell_type": "code",
   "execution_count": 79,
   "id": "df1a020d",
   "metadata": {},
   "outputs": [
    {
     "name": "stdout",
     "output_type": "stream",
     "text": [
      "The Maximmum Number: 4.56\n",
      "The Minnium Number: 0.99\n"
     ]
    }
   ],
   "source": [
    "numbers=[3.14,2.13,2.71,1.23,4.56,0.99]\n",
    "\n",
    "max_num=numbers[0]\n",
    "for num in numbers:\n",
    "    if num>max_num:\n",
    "        max_num=num\n",
    "        \n",
    "# minnium number\n",
    "\n",
    "min_num=numbers[0]\n",
    "for num in numbers:\n",
    "    if num<min_num:\n",
    "        min_num=num\n",
    "        \n",
    "print(\"The Maximmum Number:\",max_num)\n",
    "print(\"The Minnium Number:\",min_num)"
   ]
  },
  {
   "cell_type": "code",
   "execution_count": null,
   "id": "c8a0aec7",
   "metadata": {},
   "outputs": [],
   "source": []
  }
 ],
 "metadata": {
  "kernelspec": {
   "display_name": "Python 3 (ipykernel)",
   "language": "python",
   "name": "python3"
  },
  "language_info": {
   "codemirror_mode": {
    "name": "ipython",
    "version": 3
   },
   "file_extension": ".py",
   "mimetype": "text/x-python",
   "name": "python",
   "nbconvert_exporter": "python",
   "pygments_lexer": "ipython3",
   "version": "3.9.12"
  }
 },
 "nbformat": 4,
 "nbformat_minor": 5
}
